{
  "cells": [
    {
      "cell_type": "markdown",
      "metadata": {
        "id": "view-in-github",
        "colab_type": "text"
      },
      "source": [
        "<a href=\"https://colab.research.google.com/github/ganeshjaggineni/machine-learning/blob/main/Task_9_KNN_classifier.ipynb\" target=\"_parent\"><img src=\"https://colab.research.google.com/assets/colab-badge.svg\" alt=\"Open In Colab\"/></a>"
      ]
    },
    {
      "cell_type": "code",
      "execution_count": null,
      "id": "73a4c242",
      "metadata": {
        "id": "73a4c242"
      },
      "outputs": [],
      "source": [
        "import numpy as np\n",
        "import matplotlib.pyplot as plt\n",
        "from sklearn.neighbors import KNeighborsClassifier\n",
        "from sklearn.model_selection import train_test_split\n",
        "from sklearn.metrics import accuracy_score, classification_report\n",
        "\n"
      ]
    },
    {
      "cell_type": "code",
      "execution_count": null,
      "id": "860c6b7e",
      "metadata": {
        "id": "860c6b7e"
      },
      "outputs": [],
      "source": [
        "# Provided dataset\n",
        "data = np.array([\n",
        "    [2, 5, 'speaker'],\n",
        "    [2, 6, 'speaker'],\n",
        "    [7, 6, 'leader'],\n",
        "    [7, 2.5, 'intel'],\n",
        "    [8, 6, 'leader'],\n",
        "    [4, 7, 'speaker'],\n",
        "    [5, 3, 'intel'],\n",
        "    [3, 5.5, 'speaker'],\n",
        "    [8, 3, 'intel'],\n",
        "    [6, 5.5, 'leader'],\n",
        "    [6, 4, 'intel'],\n",
        "    [6, 7, 'leader'],\n",
        "    [6, 2, 'intel'],\n",
        "    [9, 7, 'leader']\n",
        "])\n",
        "\n"
      ]
    },
    {
      "cell_type": "code",
      "execution_count": null,
      "id": "2e781d6b",
      "metadata": {
        "id": "2e781d6b",
        "outputId": "f212c682-7791-4b3d-8f26-f8e41b0c8bbe"
      },
      "outputs": [
        {
          "data": {
            "text/plain": [
              "array([['2', '5', 'speaker'],\n",
              "       ['2', '6', 'speaker'],\n",
              "       ['7', '6', 'leader'],\n",
              "       ['7', '2.5', 'intel'],\n",
              "       ['8', '6', 'leader'],\n",
              "       ['4', '7', 'speaker'],\n",
              "       ['5', '3', 'intel'],\n",
              "       ['3', '5.5', 'speaker'],\n",
              "       ['8', '3', 'intel'],\n",
              "       ['6', '5.5', 'leader'],\n",
              "       ['6', '4', 'intel'],\n",
              "       ['6', '7', 'leader'],\n",
              "       ['6', '2', 'intel'],\n",
              "       ['9', '7', 'leader']], dtype='<U32')"
            ]
          },
          "execution_count": 4,
          "metadata": {},
          "output_type": "execute_result"
        }
      ],
      "source": [
        "data"
      ]
    },
    {
      "cell_type": "code",
      "execution_count": null,
      "id": "765f7902",
      "metadata": {
        "id": "765f7902"
      },
      "outputs": [],
      "source": [
        "# Splitting features and labels\n",
        "X = data[:, :-1].astype(float)\n",
        "y = data[:, -1]\n",
        "\n"
      ]
    },
    {
      "cell_type": "code",
      "execution_count": null,
      "id": "486bbba9",
      "metadata": {
        "id": "486bbba9"
      },
      "outputs": [],
      "source": [
        "# Split the dataset into training and testing sets (70% training, 30% testing)\n",
        "X_train, X_test, y_train, y_test = train_test_split(X, y, test_size=0.3, random_state=42)\n",
        "\n"
      ]
    },
    {
      "cell_type": "code",
      "execution_count": null,
      "id": "78624fa2",
      "metadata": {
        "id": "78624fa2"
      },
      "outputs": [],
      "source": [
        "# Create a K-NN classifier with a specified number of neighbors (k)\n",
        "k = 3\n",
        "knn_classifier = KNeighborsClassifier(n_neighbors=k)\n",
        "\n"
      ]
    },
    {
      "cell_type": "code",
      "execution_count": null,
      "id": "e0819398",
      "metadata": {
        "id": "e0819398",
        "outputId": "e4ef3a5e-2bf6-46a8-d8ee-4fc8298f3bdc"
      },
      "outputs": [
        {
          "data": {
            "text/plain": [
              "KNeighborsClassifier(n_neighbors=3)"
            ]
          },
          "execution_count": 8,
          "metadata": {},
          "output_type": "execute_result"
        }
      ],
      "source": [
        "# Train the classifier on the training data\n",
        "knn_classifier.fit(X_train, y_train)\n",
        "\n"
      ]
    },
    {
      "cell_type": "code",
      "execution_count": null,
      "id": "4361493b",
      "metadata": {
        "id": "4361493b",
        "outputId": "285bf06f-62a1-4e86-f9df-ff373a172a34"
      },
      "outputs": [
        {
          "name": "stderr",
          "output_type": "stream",
          "text": [
            "C:\\ProgramData\\Anaconda3\\lib\\site-packages\\sklearn\\neighbors\\_classification.py:228: FutureWarning: Unlike other reduction functions (e.g. `skew`, `kurtosis`), the default behavior of `mode` typically preserves the axis it acts along. In SciPy 1.11.0, this behavior will change: the default value of `keepdims` will become False, the `axis` over which the statistic is taken will be eliminated, and the value None will no longer be accepted. Set `keepdims` to True or False to avoid this warning.\n",
            "  mode, _ = stats.mode(_y[neigh_ind, k], axis=1)\n"
          ]
        }
      ],
      "source": [
        "# Predict the labels for the test data\n",
        "y_pred = knn_classifier.predict(X_test)\n",
        "\n"
      ]
    },
    {
      "cell_type": "code",
      "execution_count": null,
      "id": "6740de1a",
      "metadata": {
        "id": "6740de1a",
        "outputId": "b317a7d5-6c81-456e-a746-df8975e99971"
      },
      "outputs": [
        {
          "name": "stdout",
          "output_type": "stream",
          "text": [
            "Accuracy: 1.00\n"
          ]
        }
      ],
      "source": [
        "# Calculate accuracy\n",
        "accuracy = accuracy_score(y_test, y_pred)\n",
        "print(f'Accuracy: {accuracy:.2f}')\n",
        "\n"
      ]
    },
    {
      "cell_type": "code",
      "execution_count": null,
      "id": "df044e99",
      "metadata": {
        "id": "df044e99",
        "outputId": "f543473c-322b-4c6e-d253-44998308cf98"
      },
      "outputs": [
        {
          "name": "stdout",
          "output_type": "stream",
          "text": [
            "Classification Report:\n",
            "              precision    recall  f1-score   support\n",
            "\n",
            "       intel       1.00      1.00      1.00         1\n",
            "      leader       1.00      1.00      1.00         2\n",
            "     speaker       1.00      1.00      1.00         2\n",
            "\n",
            "    accuracy                           1.00         5\n",
            "   macro avg       1.00      1.00      1.00         5\n",
            "weighted avg       1.00      1.00      1.00         5\n",
            "\n"
          ]
        }
      ],
      "source": [
        "# Generate and display the classification report\n",
        "classification_rep = classification_report(y_test, y_pred)\n",
        "print(\"Classification Report:\")\n",
        "print(classification_rep)\n",
        "\n"
      ]
    },
    {
      "cell_type": "code",
      "execution_count": null,
      "id": "54bfa43d",
      "metadata": {
        "id": "54bfa43d",
        "outputId": "8c919264-c2c6-4aad-e164-c9b00c28d777"
      },
      "outputs": [
        {
          "data": {
            "image/png": "[encoded data removed]",
            "text/plain": [
              "<Figure size 1000x600 with 1 Axes>"
            ]
          },
          "metadata": {},
          "output_type": "display_data"
        }
      ],
      "source": [
        "# Visualize the data points on a graph\n",
        "plt.figure(figsize=(10, 6))\n",
        "markers = {'speaker': 'o', 'intel': 's', 'leader': '^'}\n",
        "for label in set(y):\n",
        "    indices = np.where(y == label)\n",
        "    plt.scatter(X[indices, 0], X[indices, 1], label=label, marker=markers[label])\n",
        "\n"
      ]
    },
    {
      "cell_type": "code",
      "execution_count": null,
      "id": "5bd7bd0b",
      "metadata": {
        "id": "5bd7bd0b"
      },
      "outputs": [],
      "source": [
        "# New data point for prediction\n",
        "new_data_point = np.array([[5, 4.5]])"
      ]
    },
    {
      "cell_type": "code",
      "execution_count": null,
      "id": "57f017df",
      "metadata": {
        "id": "57f017df",
        "outputId": "fc1bd49d-0e71-4c1c-dc2c-9ed1a3d3bddb"
      },
      "outputs": [
        {
          "name": "stderr",
          "output_type": "stream",
          "text": [
            "C:\\ProgramData\\Anaconda3\\lib\\site-packages\\sklearn\\neighbors\\_classification.py:228: FutureWarning: Unlike other reduction functions (e.g. `skew`, `kurtosis`), the default behavior of `mode` typically preserves the axis it acts along. In SciPy 1.11.0, this behavior will change: the default value of `keepdims` will become False, the `axis` over which the statistic is taken will be eliminated, and the value None will no longer be accepted. Set `keepdims` to True or False to avoid this warning.\n",
            "  mode, _ = stats.mode(_y[neigh_ind, k], axis=1)\n"
          ]
        }
      ],
      "source": [
        "# Predict the label for the new data point\n",
        "predicted_label = knn_classifier.predict(new_data_point)"
      ]
    },
    {
      "cell_type": "code",
      "execution_count": null,
      "id": "061b8f0e",
      "metadata": {
        "id": "061b8f0e",
        "outputId": "2127010f-67d4-4d1d-e499-3d0773f97016"
      },
      "outputs": [
        {
          "data": {
            "image/png": "[encoded data removed]",
            "text/plain": [
              "<Figure size 640x480 with 1 Axes>"
            ]
          },
          "metadata": {},
          "output_type": "display_data"
        },
        {
          "name": "stdout",
          "output_type": "stream",
          "text": [
            "New Data Point: [[5.  4.5]] -> Predicted Label: intel\n"
          ]
        }
      ],
      "source": [
        "# Set plot labels and legend\n",
        "plt.xlabel('Feature 1')\n",
        "plt.ylabel('Feature 2')\n",
        "\n",
        "# Add a custom legend entry for the new data point\n",
        "plt.scatter(new_data_point[:, 0], new_data_point[:, 1], marker='*', s=200, c='red', label=f'New Point: {new_data_point}')\n",
        "\n",
        "plt.legend()\n",
        "plt.title('K-NN Classifier with Provided Data and New Prediction')\n",
        "plt.grid(True)\n",
        "plt.show()\n",
        "\n",
        "# Display the predicted label for the new data point\n",
        "print(f\"New Data Point: {new_data_point} -> Predicted Label: {predicted_label[0]}\")\n"
      ]
    }
  ],
  "metadata": {
    "kernelspec": {
      "display_name": "Python 3 (ipykernel)",
      "language": "python",
      "name": "python3"
    },
    "language_info": {
      "codemirror_mode": {
        "name": "ipython",
        "version": 3
      },
      "file_extension": ".py",
      "mimetype": "text/x-python",
      "name": "python",
      "nbconvert_exporter": "python",
      "pygments_lexer": "ipython3",
      "version": "3.9.13"
    },
    "colab": {
      "provenance": [],
      "include_colab_link": true
    }
  },
  "nbformat": 4,
  "nbformat_minor": 5
}