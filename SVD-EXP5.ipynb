{
 "cells": [
  {
   "cell_type": "code",
   "execution_count": 43,
   "id": "94eea458",
   "metadata": {},
   "outputs": [],
   "source": [
    "import numpy as np\n",
    "from numpy.linalg import eigh, norm"
   ]
  },
  {
   "cell_type": "code",
   "execution_count": 44,
   "id": "40bcfb2c",
   "metadata": {},
   "outputs": [],
   "source": [
    "A = np.array([[2,0,0],\n",
    "              [2,1,0],\n",
    "              [0,-2,0]])"
   ]
  },
  {
   "cell_type": "code",
   "execution_count": 45,
   "id": "ec6ce9f2",
   "metadata": {},
   "outputs": [
    {
     "data": {
      "text/plain": [
       "array([[ 2,  0,  0],\n",
       "       [ 2,  1,  0],\n",
       "       [ 0, -2,  0]])"
      ]
     },
     "execution_count": 45,
     "metadata": {},
     "output_type": "execute_result"
    }
   ],
   "source": [
    "A"
   ]
  },
  {
   "cell_type": "code",
   "execution_count": 46,
   "id": "c30ba27d",
   "metadata": {},
   "outputs": [],
   "source": [
    "ATA = A.T.dot(A)\n"
   ]
  },
  {
   "cell_type": "code",
   "execution_count": 47,
   "id": "508a8fb1",
   "metadata": {},
   "outputs": [
    {
     "data": {
      "text/plain": [
       "array([[8, 2, 0],\n",
       "       [2, 5, 0],\n",
       "       [0, 0, 0]])"
      ]
     },
     "execution_count": 47,
     "metadata": {},
     "output_type": "execute_result"
    }
   ],
   "source": [
    "ATA "
   ]
  },
  {
   "cell_type": "code",
   "execution_count": 48,
   "id": "8d73707f",
   "metadata": {},
   "outputs": [],
   "source": [
    "eigenvalues_ATA, eigenvectors_ATA = eigh(ATA)"
   ]
  },
  {
   "cell_type": "code",
   "execution_count": 49,
   "id": "14859b43",
   "metadata": {},
   "outputs": [
    {
     "data": {
      "text/plain": [
       "(array([0., 4., 9.]),\n",
       " array([[ 0.        ,  0.4472136 , -0.89442719],\n",
       "        [ 0.        , -0.89442719, -0.4472136 ],\n",
       "        [ 1.        ,  0.        , -0.        ]]))"
      ]
     },
     "execution_count": 49,
     "metadata": {},
     "output_type": "execute_result"
    }
   ],
   "source": [
    "eigenvalues_ATA, eigenvectors_ATA"
   ]
  },
  {
   "cell_type": "code",
   "execution_count": 50,
   "id": "cde28187",
   "metadata": {},
   "outputs": [],
   "source": [
    "sorted_indices = np.argsort(eigenvalues_ATA)[::-1]\n",
    "eigenvalues_ATA = eigenvalues_ATA[sorted_indices]\n",
    "eigenvectors_ATA = eigenvectors_ATA[:, sorted_indices]"
   ]
  },
  {
   "cell_type": "code",
   "execution_count": 51,
   "id": "56996c50",
   "metadata": {},
   "outputs": [],
   "source": [
    "singular_values = np.sqrt(eigenvalues_ATA)"
   ]
  },
  {
   "cell_type": "code",
   "execution_count": 52,
   "id": "44cdfeaf",
   "metadata": {},
   "outputs": [
    {
     "data": {
      "text/plain": [
       "array([3., 2., 0.])"
      ]
     },
     "execution_count": 52,
     "metadata": {},
     "output_type": "execute_result"
    }
   ],
   "source": [
    "singular_values"
   ]
  },
  {
   "cell_type": "code",
   "execution_count": 53,
   "id": "0a5a5153",
   "metadata": {},
   "outputs": [],
   "source": [
    "S = np.zeros_like(A, dtype=float)\n",
    "S[:A.shape[0], :A.shape[1]] = np.diag(singular_values)"
   ]
  },
  {
   "cell_type": "code",
   "execution_count": 54,
   "id": "3842d196",
   "metadata": {},
   "outputs": [
    {
     "data": {
      "text/plain": [
       "array([[3., 0., 0.],\n",
       "       [0., 2., 0.],\n",
       "       [0., 0., 0.]])"
      ]
     },
     "execution_count": 54,
     "metadata": {},
     "output_type": "execute_result"
    }
   ],
   "source": [
    "S[:A.shape[0], :A.shape[1]]"
   ]
  },
  {
   "cell_type": "code",
   "execution_count": 55,
   "id": "521fdf52",
   "metadata": {},
   "outputs": [],
   "source": [
    "U = A.dot(eigenvectors_ATA)"
   ]
  },
  {
   "cell_type": "code",
   "execution_count": 56,
   "id": "29347340",
   "metadata": {},
   "outputs": [
    {
     "name": "stderr",
     "output_type": "stream",
     "text": [
      "C:\\Users\\avinash\\AppData\\Local\\Temp\\ipykernel_20280\\4239885122.py:1: RuntimeWarning: invalid value encountered in divide\n",
      "  U /= norm(U, axis=0)\n"
     ]
    }
   ],
   "source": [
    "U /= norm(U, axis=0)"
   ]
  },
  {
   "cell_type": "code",
   "execution_count": 57,
   "id": "c0db46e6",
   "metadata": {},
   "outputs": [],
   "source": [
    "Vt = eigenvectors_ATA.T\n",
    "\n"
   ]
  },
  {
   "cell_type": "code",
   "execution_count": 59,
   "id": "f69923e7",
   "metadata": {},
   "outputs": [
    {
     "name": "stdout",
     "output_type": "stream",
     "text": [
      "Matrix U (3x3):\n",
      "[[-0.59628479  0.4472136          nan]\n",
      " [-0.74535599  0.                 nan]\n",
      " [ 0.2981424   0.89442719         nan]]\n",
      "\n",
      "Matrix S (3x3):\n",
      "[[3. 0. 0.]\n",
      " [0. 2. 0.]\n",
      " [0. 0. 0.]]\n",
      "\n",
      "Matrix Vt (3x3):\n",
      "[[-0.89442719 -0.4472136  -0.        ]\n",
      " [ 0.4472136  -0.89442719  0.        ]\n",
      " [ 0.          0.          1.        ]]\n"
     ]
    }
   ],
   "source": [
    "print(\"Matrix U (3x3):\")\n",
    "print(U)\n",
    "print(\"\\nMatrix S (3x3):\")\n",
    "print(S)\n",
    "print(\"\\nMatrix Vt (3x3):\")\n",
    "print(Vt)"
   ]
  }
 ],
 "metadata": {
  "kernelspec": {
   "display_name": "Python 3 (ipykernel)",
   "language": "python",
   "name": "python3"
  },
  "language_info": {
   "codemirror_mode": {
    "name": "ipython",
    "version": 3
   },
   "file_extension": ".py",
   "mimetype": "text/x-python",
   "name": "python",
   "nbconvert_exporter": "python",
   "pygments_lexer": "ipython3",
   "version": "3.10.9"
  }
 },
 "nbformat": 4,
 "nbformat_minor": 5
}
